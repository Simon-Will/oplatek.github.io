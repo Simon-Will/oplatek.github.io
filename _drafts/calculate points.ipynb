{
 "cells": [
  {
   "cell_type": "code",
   "execution_count": 2,
   "metadata": {
    "collapsed": true
   },
   "outputs": [],
   "source": [
    "x = '''| **MrPerfect**| 3 | 3 | 3 | 3 | 3 | 3 | 3 | 3 | 1 | 3 | 3 | 3 |   | \n",
    "| lrdGaben     |3+1|3+1.5|3|3+2| 3 | 3 |2.5+2| | 0 | 0 | 0 |   |\n",
    "| OndraN       |3+1| 3 |1.5| 3 | 3 | 3 |2.5+2|2| 1 |1+2| 3 |   |\n",
    "| Suky         |3+1| 3 | 3 |3+2| 3 | 3 | 3 | 0 | 0 | 0 | 0 |   |\n",
    "| hlupaco      |3+2|3+1| 3 |3+2| 2 | 3 | 2 | 0 | 1 | 0 | 0 |   |\n",
    "| Stephen      | 3 | 3 | 0 |1.5| 3 | 2 | 3 |0.5|1|0+1.5|1.5|   |\n",
    "| Haldon       | 3 | 3 |2.5| 3 | 3 | 3 | 3 | 3 | 1 | 0 |   |   |\n",
    "| ameSakvE     | 2 | 3 | 3 | 3 | 3 | 0 |+2 | 3 | 1 |1+2| 3 |   |\n",
    "| Fraith       | 3 | 3 | 2 |2.5| 3 |1.5|2+2| 2 | 1 | 3 | 0 |   |\n",
    "| apnoea       | 3 | 3 | 3 |2.5| 3 | 3 | 2 | 2 | 0 |0.5+0|3|   |\n",
    "| potato       | 3 | 3 | 2 | 3 | 3 | 2 | 3 | 2 | 0 | 1 | 3 |   |\n",
    "| or           | 3 | 3 | 3 | 3 | 3 | 3 | 3 | 3 | 1 | 0 | 3 |   |\n",
    "| Flash        | 3 | 0 | 0|3+1.5|3 | 3 | 3 |2.5| 1 |1+2|1.5|   |\n",
    "| AlpskaSul    | 1 | 1 | 1 |2.5| 3 | 1 | 1 | 2 | 1 |0+0| 0 |   |\n",
    "| kompot       | 0 | 2 | 1 |2.5| 3 | 3 | 3 | 3 | 1 |0+0| 3 |   |\n",
    "| Quarz        | 0 | 0 | 0 | 3 | 3 | 2 | 0 | 0 | 0 | 0 | 0 |   |\n",
    "| synetric     | 3 | 0 | 0 | 0 | 0 | 3 |3+2| 0 | 1 |1+1.5|1|   |\n",
    "| Bashynx      | 3 | 0 | 0 | 0 | 0 | 1 |2+0| 0 | 0 |0+0| 2 |   |\n",
    "| Aragorn      | 3 | 0 | 0 | 0 | 0 | 0 | 0 | 0 | 0 | 0 | 0 |   |\n",
    "'''\n",
    "\n"
   ]
  },
  {
   "cell_type": "code",
   "execution_count": 15,
   "metadata": {
    "collapsed": false
   },
   "outputs": [
    {
     "name": "stdout",
     "output_type": "stream",
     "text": [
      " **MrPerfect** 34\n",
      " lrdGaben      27.0\n",
      " OndraN        31.0\n",
      " Suky          24\n",
      " hlupaco       25\n",
      " Stephen       20.0\n",
      " Haldon        24.5\n",
      " ameSakvE      26\n",
      " Fraith        25.0\n",
      " apnoea        25.0\n",
      " potato        25\n",
      " or            28\n",
      " Flash         24.5\n",
      " AlpskaSul     13.5\n",
      " kompot        21.5\n",
      " Quarz         8\n",
      " synetric      15.5\n",
      " Bashynx       8\n",
      " Aragorn       3\n"
     ]
    }
   ],
   "source": [
    "for l in x.splitlines():\n",
    "    line = l.split('|')\n",
    "    name = line[1]\n",
    "    nums = ['0' if i.strip() =='' else i for i in line[2:]]\n",
    "    k = sum([eval(i) for i in nums])\n",
    "    print(name, k)"
   ]
  },
  {
   "cell_type": "code",
   "execution_count": 13,
   "metadata": {
    "collapsed": false
   },
   "outputs": [
    {
     "data": {
      "text/plain": [
       "0"
      ]
     },
     "execution_count": 13,
     "metadata": {},
     "output_type": "execute_result"
    }
   ],
   "source": [
    "eval('0')"
   ]
  }
 ],
 "metadata": {
  "kernelspec": {
   "display_name": "Python 3",
   "language": "python",
   "name": "python3"
  },
  "language_info": {
   "codemirror_mode": {
    "name": "ipython",
    "version": 3
   },
   "file_extension": ".py",
   "mimetype": "text/x-python",
   "name": "python",
   "nbconvert_exporter": "python",
   "pygments_lexer": "ipython3",
   "version": "3.5.1"
  }
 },
 "nbformat": 4,
 "nbformat_minor": 0
}
